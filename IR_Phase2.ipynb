{
  "nbformat": 4,
  "nbformat_minor": 0,
  "metadata": {
    "colab": {
      "name": "IR_Phase2",
      "provenance": [],
      "collapsed_sections": []
    },
    "kernelspec": {
      "name": "python3",
      "display_name": "Python 3"
    },
    "language_info": {
      "name": "python"
    }
  },
  "cells": [
    {
      "cell_type": "code",
      "execution_count": 2,
      "metadata": {
        "colab": {
          "resources": {
            "http://localhost:8080/nbextensions/google.colab/files.js": {
              "data": "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",
              "ok": true,
              "headers": [
                [
                  "content-type",
                  "application/javascript"
                ]
              ],
              "status": 200,
              "status_text": ""
            }
          },
          "base_uri": "https://localhost:8080/",
          "height": 73
        },
        "id": "WQlQObyJcEQn",
        "outputId": "87532780-fc2a-4985-a3ad-be6629c59efe"
      },
      "outputs": [
        {
          "output_type": "display_data",
          "data": {
            "text/plain": [
              "<IPython.core.display.HTML object>"
            ],
            "text/html": [
              "\n",
              "     <input type=\"file\" id=\"files-85edd2f0-f9e6-440e-afbd-c8af3f62c322\" name=\"files[]\" multiple disabled\n",
              "        style=\"border:none\" />\n",
              "     <output id=\"result-85edd2f0-f9e6-440e-afbd-c8af3f62c322\">\n",
              "      Upload widget is only available when the cell has been executed in the\n",
              "      current browser session. Please rerun this cell to enable.\n",
              "      </output>\n",
              "      <script src=\"/nbextensions/google.colab/files.js\"></script> "
            ]
          },
          "metadata": {}
        },
        {
          "output_type": "stream",
          "name": "stdout",
          "text": [
            "Saving IR_data_news_12k.zip to IR_data_news_12k.zip\n"
          ]
        }
      ],
      "source": [
        "from google.colab import files\n",
        "uploaded = files.upload()"
      ]
    },
    {
      "cell_type": "code",
      "source": [
        "import zipfile\n",
        "with zipfile.ZipFile('IR_data_news_12k.zip', 'r') as zip_ref:\n",
        "    zip_ref.extractall()"
      ],
      "metadata": {
        "id": "XI7nePM59XES"
      },
      "execution_count": 3,
      "outputs": []
    },
    {
      "cell_type": "code",
      "source": [
        "import pandas as pd"
      ],
      "metadata": {
        "id": "FCGUXiErjkzU"
      },
      "execution_count": 4,
      "outputs": []
    },
    {
      "cell_type": "code",
      "source": [
        "import json\n",
        "f = open('IR_data_news_12k.json')\n",
        "data = json.load(f)\n",
        "#check\n",
        "for i in range(1000):\n",
        "  print(data[str(i)]['title'])\n",
        "\n",
        "print(len(data))\n",
        "f.close()"
      ],
      "metadata": {
        "id": "A7Hp2jfTmDzV"
      },
      "execution_count": null,
      "outputs": []
    },
    {
      "cell_type": "code",
      "source": [
        "!pip3 install parsivar"
      ],
      "metadata": {
        "id": "zJXTV2bGrt7W"
      },
      "execution_count": null,
      "outputs": []
    },
    {
      "cell_type": "code",
      "source": [
        "!pip install hazm"
      ],
      "metadata": {
        "id": "Jviz5q_RuVbo"
      },
      "execution_count": null,
      "outputs": []
    },
    {
      "cell_type": "markdown",
      "source": [
        "**libraries**"
      ],
      "metadata": {
        "id": "hlFbnk4u7wmi"
      }
    },
    {
      "cell_type": "code",
      "source": [
        "from parsivar import Normalizer, Tokenizer, FindStems\n",
        "from hazm import stopwords_list"
      ],
      "metadata": {
        "id": "e4iOXJvq635m"
      },
      "execution_count": 8,
      "outputs": []
    },
    {
      "cell_type": "markdown",
      "source": [
        "Preprocessing"
      ],
      "metadata": {
        "id": "JlYels5tVw_M"
      }
    },
    {
      "cell_type": "code",
      "source": [
        "my_normalizer = Normalizer()\n",
        "my_tokenizer = Tokenizer()\n",
        "\n",
        "\n",
        "def normalize_data(data):\n",
        "  norm_data = {}\n",
        "  for i in range(len(data)):\n",
        "    norm_data[str(i)] = my_normalizer.normalize(data[str(i)]['content'])\n",
        "  return norm_data\n",
        "\n",
        "def get_tokens(data):\n",
        "  tokenized_data = {}\n",
        "  for i in range(len(data)):\n",
        "    tokenized_data[str(i)] = my_tokenizer.tokenize_words(data[str(i)])\n",
        "  return tokenized_data\n",
        "\n",
        "normalized_data = normalize_data(data)\n",
        "tokenized_data = get_tokens(normalized_data)"
      ],
      "metadata": {
        "id": "7_a96IYgP6av"
      },
      "execution_count": 9,
      "outputs": []
    },
    {
      "cell_type": "markdown",
      "source": [
        "\n",
        "\n",
        "---\n",
        "\n"
      ],
      "metadata": {
        "id": "U2Vs0rFodH_g"
      }
    },
    {
      "cell_type": "code",
      "source": [
        "stopwords = stopwords_list()\n",
        "stopwords += ['.', '،', ':', '/', ')', '(', '%', '//', '[', ']', 'و', 'های', 'ها']\n",
        "\n",
        "def remove_stopwords(data):\n",
        "  removed_data = {}\n",
        "  for i in range(len(data)):\n",
        "    removed_data[str(i)] = [word for word in data[str(i)] if word not in stopwords]\n",
        "  return removed_data\n",
        "\n",
        "removed_data = remove_stopwords(tokenized_data)"
      ],
      "metadata": {
        "id": "faAwK3Slx3-C"
      },
      "execution_count": 10,
      "outputs": []
    },
    {
      "cell_type": "markdown",
      "source": [
        "Stemmer"
      ],
      "metadata": {
        "id": "2wDGCnzt9fjn"
      }
    },
    {
      "cell_type": "code",
      "source": [
        "my_stemmer = FindStems()\n",
        "\n",
        "def stem_words(data):\n",
        "  stem = {}\n",
        "  for i in range(len(data)):\n",
        "    words = []\n",
        "    for word in data[str(i)]:\n",
        "      words.append(my_stemmer.convert_to_stem(word))\n",
        "    stem[str(i)] = words\n",
        "  return stem\n",
        "\n",
        "stem_data = stem_words(removed_data)"
      ],
      "metadata": {
        "id": "QBVP9PXT9gmx"
      },
      "execution_count": 11,
      "outputs": []
    },
    {
      "cell_type": "markdown",
      "source": [
        "Positional Index"
      ],
      "metadata": {
        "id": "bg0e5J6uKtlk"
      }
    },
    {
      "cell_type": "code",
      "source": [
        "pos_index = {}\n",
        "doc_id = 0\n",
        "\n",
        "def positional_index(data):\n",
        "  for doc_id, content in data.items():\n",
        "    for pos, term in enumerate(content):\n",
        "      #check if we have it already\n",
        "      if term in pos_index:\n",
        "\n",
        "        if doc_id in pos_index[term][1]:\n",
        "          # pos_index[term][1][doc_id][1].append(pos)\n",
        "          pos_index[term][1][doc_id][0] += 1\n",
        "        else:\n",
        "          pos_index[term][1][doc_id] = []\n",
        "          pos_index[term][1][doc_id].append(1)\n",
        "          # pos_index[term][1][doc_id].append([pos])\n",
        "        \n",
        "        pos_index[term][0] += 1\n",
        "\n",
        "      else:\n",
        "        pos_index[term] = []\n",
        "        pos_index[term].append(1)\n",
        "        pos_index[term].append({})\n",
        "        pos_index[term][1][doc_id] = []\n",
        "        pos_index[term][1][doc_id].append(1)\n",
        "        # pos_index[term][1][doc_id].append([pos])\n",
        "\n",
        "  return pos_index\n",
        "\n",
        "pos_in = positional_index(stem_data)\n",
        "print(len(pos_in))\n",
        "# print(pos_in[\"فایزر\"])"
      ],
      "metadata": {
        "colab": {
          "base_uri": "https://localhost:8080/"
        },
        "id": "2zDwqNFUKvqj",
        "outputId": "eea78d87-5444-4c7e-d06c-99869ff1e4a4"
      },
      "execution_count": 12,
      "outputs": [
        {
          "output_type": "stream",
          "name": "stdout",
          "text": [
            "57469\n"
          ]
        }
      ]
    },
    {
      "cell_type": "markdown",
      "source": [
        "**Phase 2**\n",
        "\n",
        "vectorizing documents"
      ],
      "metadata": {
        "id": "dfAuRmk7IkQ1"
      }
    },
    {
      "cell_type": "markdown",
      "source": [
        "![tfidf.png](data:image/png;base64,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)"
      ],
      "metadata": {
        "id": "zSNgRvSNK1CJ"
      }
    },
    {
      "cell_type": "code",
      "source": [
        "\n",
        "import math\n",
        "import copy\n",
        "new_in = copy.deepcopy(pos_in)\n",
        "\n",
        "saved_pos_in = {}\n",
        "tf_idf = 0\n",
        "\n",
        "def update_positional_index(pos):\n",
        "  for term in pos.keys():\n",
        "    for doc in pos[term][1].keys():\n",
        "      tf_idf = (1 + math.log10(pos[term][1][doc][0])) * math.log10(len(data)//len(pos[term][1]))\n",
        "      pos[term][1][doc].append(tf_idf)\n",
        "  return pos\n",
        "\n",
        "weighted_index = update_positional_index(new_in)"
      ],
      "metadata": {
        "id": "xS_yLlmWKUzr"
      },
      "execution_count": 13,
      "outputs": []
    },
    {
      "cell_type": "markdown",
      "source": [
        "**Champion List**\n",
        "\n"
      ],
      "metadata": {
        "id": "OKIhSdHhp3gP"
      }
    },
    {
      "cell_type": "code",
      "source": [
        "import copy\n",
        "champion_list = copy.deepcopy(weighted_index)\n",
        "for term in champion_list.keys():\n",
        "  champion_list[term][1] = dict(sorted(champion_list[term][1].items(), key=lambda item: item[1][1],reverse=True))\n",
        "  if len(champion_list[term][1]) > 100:\n",
        "    for i in range(0,len(champion_list[term][1]) - 100):\n",
        "      k, v = champion_list[term][1].popitem()"
      ],
      "metadata": {
        "id": "aUnuu7NUGuGf"
      },
      "execution_count": 14,
      "outputs": []
    },
    {
      "cell_type": "markdown",
      "source": [
        "**phase 2**\n",
        "\n",
        "query processing"
      ],
      "metadata": {
        "id": "uznI4mUi5Rye"
      }
    },
    {
      "cell_type": "code",
      "source": [
        "import re\n",
        "import functools\n",
        "from hazm import *\n",
        "import math \n",
        "hazm_normalizer = Normalizer()\n",
        "\n",
        "\n",
        "import heapq\n",
        "\n",
        "def query_proc():\n",
        "  query = input()\n",
        "\n",
        "  normal_queries = []\n",
        "  words = query.split(\" \")\n",
        "\n",
        "\n",
        "  normal_queries = [w for w in words]\n",
        "  \n",
        "\n",
        "  # preprocess query\n",
        "  for w in normal_queries:\n",
        "    w = my_normalizer.normalize(w)\n",
        "    w = my_tokenizer.tokenize_words(w)\n",
        "  for i in range(len(normal_queries)):\n",
        "    normal_queries = [word for word in normal_queries if word not in stopwords]\n",
        "    \n",
        "  new_words = []\n",
        "  for w in normal_queries:  \n",
        "    new_words.append(my_stemmer.convert_to_stem(w))\n",
        "  normal_queries = new_words\n",
        "  # print(normal_queries)\n",
        "\n",
        "# phase 2\n",
        "\n",
        "# calculate term frequency in query\n",
        "  def countFrequency(my_list):\n",
        "      freq = {}\n",
        "      for item in my_list:\n",
        "          if (item in freq):\n",
        "              freq[item] += 1\n",
        "          else:\n",
        "              freq[item] = 1\n",
        "      return freq    \n",
        "\n",
        "  # weight calculation with index elimination\n",
        "  def cosine_score(query, weighted_index):\n",
        "    w = 0\n",
        "    result = []\n",
        "    scores = [0] * len(data)\n",
        "    length = [0] * len(data)\n",
        "    tf = countFrequency(query)\n",
        "\n",
        "    for t in query:\n",
        "      w = (1 + math.log10(tf[t])) * math.log10(len(data)//len(weighted_index[t][1]))\n",
        "      for doc in weighted_index[t][1].keys():\n",
        "        scores[int(doc)] += weighted_index[t][1][doc][1] * w\n",
        "\n",
        "    for d in range(len(scores)):\n",
        "      if scores[d] != 0:\n",
        "        for w in set(stem_data[str(d)]):\n",
        "          if str(d) in weighted_index[w][1]:\n",
        "            length[d] += (weighted_index[w][1][str(d)][1] ** 2)\n",
        "        scores[d] = scores[d] / math.sqrt(length[d])\n",
        "\n",
        "\n",
        "    # choose first k (=5)\n",
        "    k = 5\n",
        "    h_scores = scores[:]\n",
        "    heapq.heapify(h_scores)\n",
        "    highest_scores = heapq.nlargest(k, h_scores)\n",
        "    for s in highest_scores:\n",
        "      result.append(scores.index(s))\n",
        "\n",
        "    return result\n",
        "\n",
        "  results = cosine_score(normal_queries, weighted_index)\n",
        "  results2 = cosine_score(normal_queries, champion_list)\n",
        "\n",
        "  # for doc in range(len(results)):\n",
        "  #     print(data[str(results[doc])]['title'])\n",
        "  #     print(data[str(results[doc])]['url'])\n",
        "  #     print(str(results[doc]))\n",
        "  print(\"____________________________________________\")\n",
        "\n",
        "  for doc in range(len(results2)):\n",
        "      print(data[str(results2[doc])]['title'])\n",
        "      print(data[str(results2[doc])]['url'])\n",
        "      # print(str(results2[doc]))\n",
        "\n",
        "query_proc()"
      ],
      "metadata": {
        "id": "O3Dbvgs35Rf4"
      },
      "execution_count": null,
      "outputs": []
    }
  ]
}